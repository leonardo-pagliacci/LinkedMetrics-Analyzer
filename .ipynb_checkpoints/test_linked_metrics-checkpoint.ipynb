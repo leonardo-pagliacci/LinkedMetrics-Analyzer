{
 "cells": [
  {
   "cell_type": "code",
   "execution_count": 2,
   "id": "ab224ad2",
   "metadata": {},
   "outputs": [],
   "source": [
    "import os\n",
    "import json\n",
    "import logging\n",
    "\n",
    "from linkedin_api import Linkedin\n",
    "from urllib.parse import urlparse, unquote\n",
    "\n",
    "from openai import OpenAI\n",
    "from dotenv import load_dotenv\n",
    "load_dotenv()\n",
    "\n",
    "\n",
    "import PyPDF2\n",
    "import re\n",
    "\n",
    "import fitz \n",
    "\n",
    "\n",
    "# Suppress INFO logs\n",
    "logging.getLogger(\"httpx\").setLevel(logging.WARNING)"
   ]
  },
  {
   "cell_type": "code",
   "execution_count": 3,
   "id": "b6693ab7",
   "metadata": {},
   "outputs": [],
   "source": [
    "# Authenticate with Linkedin account credentials\n",
    "api = Linkedin(\"--\", \"--\")\n",
    "\n",
    "# Authenticate with OpenAI api credetials\n",
    "client = OpenAI(api_key='--')\n"
   ]
  },
  {
   "cell_type": "markdown",
   "id": "d2748267",
   "metadata": {},
   "source": [
    "### Import linkedin_api functions"
   ]
  },
  {
   "cell_type": "code",
   "execution_count": 6,
   "id": "01263d57",
   "metadata": {},
   "outputs": [
    {
     "data": {
      "text/plain": [
       "\"\\n    Functions:\\n    \\n    1.linkedin_profile_extractor(profile_url):\\n    \\n    Extracts detailed information from a LinkedIn profile given its URL.\\n\\n    Args:\\n        profile_url (str): The URL of the LinkedIn profile.\\n\\n    Returns:\\n        dict: A dictionary containing key information extracted from the LinkedIn profile, such as name, headline, experience, education, skills, etc.\\n        \\n    ---------------\\n\\n    2.linkedin_job_description_extractor(job_url):\\n    \\n    Extracts key information from a LinkedIn job description given its URL.\\n\\n    Args:\\n        job_url (str): The URL of the LinkedIn job posting.\\n\\n    Returns:\\n        dict: A dictionary containing the extracted job description information, including the job title, company name, job location, and job responsibilities.\\n    \\n    ---------------\\n    \\n\\n    3.linkedin_company_info_extractor(company_url):\\n    \\n    Extracts detailed information about a company from LinkedIn given its URL.\\n\\n    Args:\\n        company_url (str): The URL of the company's LinkedIn page.\\n\\n    Returns:\\n        dict: A dictionary containing key company information, such as company name, industry, size, and description, extracted from LinkedIn.\\n    \\n    ---------------\\n    \\n    4.linkedin_job_company_extractor(job_url):\\n    \\n    Extracts detailed information about a job and its posting company from LinkedIn based on the job's URL.\\n\\n    Args:\\n        job_url (str): The URL of the LinkedIn job posting.\\n\\n    Returns:\\n        dict: A dictionary that combines information extracted from the job description and the posting company's LinkedIn page. This includes job details and comprehensive company information.\\n\""
      ]
     },
     "execution_count": 6,
     "metadata": {},
     "output_type": "execute_result"
    }
   ],
   "source": [
    "# Import functions\n",
    "\n",
    "%run linkedin_data_extractor_functions.ipynb\n",
    "\n",
    "    \n",
    "\"\"\"\n",
    "    Functions:\n",
    "    \n",
    "    1.linkedin_profile_extractor(profile_url):\n",
    "    \n",
    "    Extracts detailed information from a LinkedIn profile given its URL.\n",
    "\n",
    "    Args:\n",
    "        profile_url (str): The URL of the LinkedIn profile.\n",
    "\n",
    "    Returns:\n",
    "        dict: A dictionary containing key information extracted from the LinkedIn profile, such as name, headline, experience, education, skills, etc.\n",
    "        \n",
    "    ---------------\n",
    "\n",
    "    2.linkedin_job_description_extractor(job_url):\n",
    "    \n",
    "    Extracts key information from a LinkedIn job description given its URL.\n",
    "\n",
    "    Args:\n",
    "        job_url (str): The URL of the LinkedIn job posting.\n",
    "\n",
    "    Returns:\n",
    "        dict: A dictionary containing the extracted job description information, including the job title, company name, job location, and job responsibilities.\n",
    "    \n",
    "    ---------------\n",
    "    \n",
    "\n",
    "    3.linkedin_company_info_extractor(company_url):\n",
    "    \n",
    "    Extracts detailed information about a company from LinkedIn given its URL.\n",
    "\n",
    "    Args:\n",
    "        company_url (str): The URL of the company's LinkedIn page.\n",
    "\n",
    "    Returns:\n",
    "        dict: A dictionary containing key company information, such as company name, industry, size, and description, extracted from LinkedIn.\n",
    "    \n",
    "    ---------------\n",
    "    \n",
    "    4.linkedin_job_company_extractor(job_url):\n",
    "    \n",
    "    Extracts detailed information about a job and its posting company from LinkedIn based on the job's URL.\n",
    "\n",
    "    Args:\n",
    "        job_url (str): The URL of the LinkedIn job posting.\n",
    "\n",
    "    Returns:\n",
    "        dict: A dictionary that combines information extracted from the job description and the posting company's LinkedIn page. This includes job details and comprehensive company information.\n",
    "\"\"\"\n",
    "\n",
    "\n"
   ]
  },
  {
   "cell_type": "markdown",
   "id": "1f0f1de9",
   "metadata": {},
   "source": [
    "### Import prompt_engineering functions"
   ]
  },
  {
   "cell_type": "code",
   "execution_count": 7,
   "id": "68e423ca",
   "metadata": {},
   "outputs": [
    {
     "ename": "ChallengeException",
     "evalue": "BAD_USERNAME_OR_PASSWORD",
     "output_type": "error",
     "traceback": [
      "\u001b[0;31m---------------------------------------------------------------------------\u001b[0m",
      "\u001b[0;31mChallengeException\u001b[0m                        Traceback (most recent call last)",
      "File \u001b[0;32m/var/folders/yb/9gxqx77n4nq_ls51pf25lnvw0000gn/T/ipykernel_12052/2538906394.py:2\u001b[0m\n\u001b[1;32m      1\u001b[0m \u001b[38;5;66;03m# Authenticate with Linkedin account credentials\u001b[39;00m\n\u001b[0;32m----> 2\u001b[0m api \u001b[38;5;241m=\u001b[39m Linkedin(\u001b[38;5;124m\"\u001b[39m\u001b[38;5;124mYOUR_EMAIL\u001b[39m\u001b[38;5;124m\"\u001b[39m, \u001b[38;5;124m\"\u001b[39m\u001b[38;5;124mYOUR_PASSWORD\u001b[39m\u001b[38;5;124m\"\u001b[39m)\n\u001b[1;32m      4\u001b[0m \u001b[38;5;66;03m# Authenticate with OpenAI api credetials\u001b[39;00m\n\u001b[1;32m      5\u001b[0m client \u001b[38;5;241m=\u001b[39m OpenAI(api_key\u001b[38;5;241m=\u001b[39m\u001b[38;5;124m'\u001b[39m\u001b[38;5;124msk-YOUR_KEY\u001b[39m\u001b[38;5;124m'\u001b[39m)\n",
      "File \u001b[0;32m~/anaconda3/lib/python3.11/site-packages/linkedin_api/linkedin.py:86\u001b[0m, in \u001b[0;36mLinkedin.__init__\u001b[0;34m(self, username, password, authenticate, refresh_cookies, debug, proxies, cookies, cookies_dir)\u001b[0m\n\u001b[1;32m     84\u001b[0m     \u001b[38;5;28mself\u001b[39m\u001b[38;5;241m.\u001b[39mclient\u001b[38;5;241m.\u001b[39m_set_session_cookies(cookies)\n\u001b[1;32m     85\u001b[0m \u001b[38;5;28;01melse\u001b[39;00m:\n\u001b[0;32m---> 86\u001b[0m     \u001b[38;5;28mself\u001b[39m\u001b[38;5;241m.\u001b[39mclient\u001b[38;5;241m.\u001b[39mauthenticate(username, password)\n",
      "File \u001b[0;32m~/anaconda3/lib/python3.11/site-packages/linkedin_api/client.py:102\u001b[0m, in \u001b[0;36mClient.authenticate\u001b[0;34m(self, username, password)\u001b[0m\n\u001b[1;32m     99\u001b[0m         \u001b[38;5;28mself\u001b[39m\u001b[38;5;241m.\u001b[39m_fetch_metadata()\n\u001b[1;32m    100\u001b[0m         \u001b[38;5;28;01mreturn\u001b[39;00m\n\u001b[0;32m--> 102\u001b[0m \u001b[38;5;28mself\u001b[39m\u001b[38;5;241m.\u001b[39m_do_authentication_request(username, password)\n\u001b[1;32m    103\u001b[0m \u001b[38;5;28mself\u001b[39m\u001b[38;5;241m.\u001b[39m_fetch_metadata()\n",
      "File \u001b[0;32m~/anaconda3/lib/python3.11/site-packages/linkedin_api/client.py:162\u001b[0m, in \u001b[0;36mClient._do_authentication_request\u001b[0;34m(self, username, password)\u001b[0m\n\u001b[1;32m    159\u001b[0m data \u001b[38;5;241m=\u001b[39m res\u001b[38;5;241m.\u001b[39mjson()\n\u001b[1;32m    161\u001b[0m \u001b[38;5;28;01mif\u001b[39;00m data \u001b[38;5;129;01mand\u001b[39;00m data[\u001b[38;5;124m\"\u001b[39m\u001b[38;5;124mlogin_result\u001b[39m\u001b[38;5;124m\"\u001b[39m] \u001b[38;5;241m!=\u001b[39m \u001b[38;5;124m\"\u001b[39m\u001b[38;5;124mPASS\u001b[39m\u001b[38;5;124m\"\u001b[39m:\n\u001b[0;32m--> 162\u001b[0m     \u001b[38;5;28;01mraise\u001b[39;00m ChallengeException(data[\u001b[38;5;124m\"\u001b[39m\u001b[38;5;124mlogin_result\u001b[39m\u001b[38;5;124m\"\u001b[39m])\n\u001b[1;32m    164\u001b[0m \u001b[38;5;28;01mif\u001b[39;00m res\u001b[38;5;241m.\u001b[39mstatus_code \u001b[38;5;241m==\u001b[39m \u001b[38;5;241m401\u001b[39m:\n\u001b[1;32m    165\u001b[0m     \u001b[38;5;28;01mraise\u001b[39;00m UnauthorizedException()\n",
      "\u001b[0;31mChallengeException\u001b[0m: BAD_USERNAME_OR_PASSWORD"
     ]
    },
    {
     "ename": "ChallengeException",
     "evalue": "BAD_USERNAME_OR_PASSWORD",
     "output_type": "error",
     "traceback": [
      "\u001b[0;31m---------------------------------------------------------------------------\u001b[0m",
      "\u001b[0;31mChallengeException\u001b[0m                        Traceback (most recent call last)",
      "Cell \u001b[0;32mIn[7], line 2\u001b[0m\n\u001b[1;32m      1\u001b[0m \u001b[38;5;66;03m# Import functions\u001b[39;00m\n\u001b[0;32m----> 2\u001b[0m get_ipython()\u001b[38;5;241m.\u001b[39mrun_line_magic(\u001b[38;5;124m'\u001b[39m\u001b[38;5;124mrun\u001b[39m\u001b[38;5;124m'\u001b[39m, \u001b[38;5;124m'\u001b[39m\u001b[38;5;124mprompt_engineering_linked_metrics.ipynb\u001b[39m\u001b[38;5;124m'\u001b[39m)\n\u001b[1;32m      4\u001b[0m \u001b[38;5;124;03m\"\"\"\u001b[39;00m\n\u001b[1;32m      5\u001b[0m \u001b[38;5;124;03m    Functions:\u001b[39;00m\n\u001b[1;32m      6\u001b[0m \u001b[38;5;124;03m    \u001b[39;00m\n\u001b[0;32m   (...)\u001b[0m\n\u001b[1;32m     56\u001b[0m \u001b[38;5;124;03m    \u001b[39;00m\n\u001b[1;32m     57\u001b[0m \u001b[38;5;124;03m\"\"\"\u001b[39;00m\n",
      "File \u001b[0;32m~/anaconda3/lib/python3.11/site-packages/IPython/core/interactiveshell.py:2414\u001b[0m, in \u001b[0;36mInteractiveShell.run_line_magic\u001b[0;34m(self, magic_name, line, _stack_depth)\u001b[0m\n\u001b[1;32m   2412\u001b[0m     kwargs[\u001b[38;5;124m'\u001b[39m\u001b[38;5;124mlocal_ns\u001b[39m\u001b[38;5;124m'\u001b[39m] \u001b[38;5;241m=\u001b[39m \u001b[38;5;28mself\u001b[39m\u001b[38;5;241m.\u001b[39mget_local_scope(stack_depth)\n\u001b[1;32m   2413\u001b[0m \u001b[38;5;28;01mwith\u001b[39;00m \u001b[38;5;28mself\u001b[39m\u001b[38;5;241m.\u001b[39mbuiltin_trap:\n\u001b[0;32m-> 2414\u001b[0m     result \u001b[38;5;241m=\u001b[39m fn(\u001b[38;5;241m*\u001b[39margs, \u001b[38;5;241m*\u001b[39m\u001b[38;5;241m*\u001b[39mkwargs)\n\u001b[1;32m   2416\u001b[0m \u001b[38;5;66;03m# The code below prevents the output from being displayed\u001b[39;00m\n\u001b[1;32m   2417\u001b[0m \u001b[38;5;66;03m# when using magics with decodator @output_can_be_silenced\u001b[39;00m\n\u001b[1;32m   2418\u001b[0m \u001b[38;5;66;03m# when the last Python token in the expression is a ';'.\u001b[39;00m\n\u001b[1;32m   2419\u001b[0m \u001b[38;5;28;01mif\u001b[39;00m \u001b[38;5;28mgetattr\u001b[39m(fn, magic\u001b[38;5;241m.\u001b[39mMAGIC_OUTPUT_CAN_BE_SILENCED, \u001b[38;5;28;01mFalse\u001b[39;00m):\n",
      "File \u001b[0;32m~/anaconda3/lib/python3.11/site-packages/IPython/core/magics/execution.py:722\u001b[0m, in \u001b[0;36mExecutionMagics.run\u001b[0;34m(self, parameter_s, runner, file_finder)\u001b[0m\n\u001b[1;32m    720\u001b[0m     \u001b[38;5;28;01mwith\u001b[39;00m preserve_keys(\u001b[38;5;28mself\u001b[39m\u001b[38;5;241m.\u001b[39mshell\u001b[38;5;241m.\u001b[39muser_ns, \u001b[38;5;124m'\u001b[39m\u001b[38;5;124m__file__\u001b[39m\u001b[38;5;124m'\u001b[39m):\n\u001b[1;32m    721\u001b[0m         \u001b[38;5;28mself\u001b[39m\u001b[38;5;241m.\u001b[39mshell\u001b[38;5;241m.\u001b[39muser_ns[\u001b[38;5;124m'\u001b[39m\u001b[38;5;124m__file__\u001b[39m\u001b[38;5;124m'\u001b[39m] \u001b[38;5;241m=\u001b[39m filename\n\u001b[0;32m--> 722\u001b[0m         \u001b[38;5;28mself\u001b[39m\u001b[38;5;241m.\u001b[39mshell\u001b[38;5;241m.\u001b[39msafe_execfile_ipy(filename, raise_exceptions\u001b[38;5;241m=\u001b[39m\u001b[38;5;28;01mTrue\u001b[39;00m)\n\u001b[1;32m    723\u001b[0m     \u001b[38;5;28;01mreturn\u001b[39;00m\n\u001b[1;32m    725\u001b[0m \u001b[38;5;66;03m# Control the response to exit() calls made by the script being run\u001b[39;00m\n",
      "File \u001b[0;32m~/anaconda3/lib/python3.11/site-packages/IPython/core/interactiveshell.py:2936\u001b[0m, in \u001b[0;36mInteractiveShell.safe_execfile_ipy\u001b[0;34m(self, fname, shell_futures, raise_exceptions)\u001b[0m\n\u001b[1;32m   2934\u001b[0m result \u001b[38;5;241m=\u001b[39m \u001b[38;5;28mself\u001b[39m\u001b[38;5;241m.\u001b[39mrun_cell(cell, silent\u001b[38;5;241m=\u001b[39m\u001b[38;5;28;01mTrue\u001b[39;00m, shell_futures\u001b[38;5;241m=\u001b[39mshell_futures)\n\u001b[1;32m   2935\u001b[0m \u001b[38;5;28;01mif\u001b[39;00m raise_exceptions:\n\u001b[0;32m-> 2936\u001b[0m     result\u001b[38;5;241m.\u001b[39mraise_error()\n\u001b[1;32m   2937\u001b[0m \u001b[38;5;28;01melif\u001b[39;00m \u001b[38;5;129;01mnot\u001b[39;00m result\u001b[38;5;241m.\u001b[39msuccess:\n\u001b[1;32m   2938\u001b[0m     \u001b[38;5;28;01mbreak\u001b[39;00m\n",
      "File \u001b[0;32m~/anaconda3/lib/python3.11/site-packages/IPython/core/interactiveshell.py:268\u001b[0m, in \u001b[0;36mExecutionResult.raise_error\u001b[0;34m(self)\u001b[0m\n\u001b[1;32m    266\u001b[0m     \u001b[38;5;28;01mraise\u001b[39;00m \u001b[38;5;28mself\u001b[39m\u001b[38;5;241m.\u001b[39merror_before_exec\n\u001b[1;32m    267\u001b[0m \u001b[38;5;28;01mif\u001b[39;00m \u001b[38;5;28mself\u001b[39m\u001b[38;5;241m.\u001b[39merror_in_exec \u001b[38;5;129;01mis\u001b[39;00m \u001b[38;5;129;01mnot\u001b[39;00m \u001b[38;5;28;01mNone\u001b[39;00m:\n\u001b[0;32m--> 268\u001b[0m     \u001b[38;5;28;01mraise\u001b[39;00m \u001b[38;5;28mself\u001b[39m\u001b[38;5;241m.\u001b[39merror_in_exec\n",
      "    \u001b[0;31m[... skipping hidden 1 frame]\u001b[0m\n",
      "File \u001b[0;32m/var/folders/yb/9gxqx77n4nq_ls51pf25lnvw0000gn/T/ipykernel_12052/2538906394.py:2\u001b[0m\n\u001b[1;32m      1\u001b[0m \u001b[38;5;66;03m# Authenticate with Linkedin account credentials\u001b[39;00m\n\u001b[0;32m----> 2\u001b[0m api \u001b[38;5;241m=\u001b[39m Linkedin(\u001b[38;5;124m\"\u001b[39m\u001b[38;5;124mYOUR_EMAIL\u001b[39m\u001b[38;5;124m\"\u001b[39m, \u001b[38;5;124m\"\u001b[39m\u001b[38;5;124mYOUR_PASSWORD\u001b[39m\u001b[38;5;124m\"\u001b[39m)\n\u001b[1;32m      4\u001b[0m \u001b[38;5;66;03m# Authenticate with OpenAI api credetials\u001b[39;00m\n\u001b[1;32m      5\u001b[0m client \u001b[38;5;241m=\u001b[39m OpenAI(api_key\u001b[38;5;241m=\u001b[39m\u001b[38;5;124m'\u001b[39m\u001b[38;5;124msk-YOUR_KEY\u001b[39m\u001b[38;5;124m'\u001b[39m)\n",
      "File \u001b[0;32m~/anaconda3/lib/python3.11/site-packages/linkedin_api/linkedin.py:86\u001b[0m, in \u001b[0;36mLinkedin.__init__\u001b[0;34m(self, username, password, authenticate, refresh_cookies, debug, proxies, cookies, cookies_dir)\u001b[0m\n\u001b[1;32m     84\u001b[0m     \u001b[38;5;28mself\u001b[39m\u001b[38;5;241m.\u001b[39mclient\u001b[38;5;241m.\u001b[39m_set_session_cookies(cookies)\n\u001b[1;32m     85\u001b[0m \u001b[38;5;28;01melse\u001b[39;00m:\n\u001b[0;32m---> 86\u001b[0m     \u001b[38;5;28mself\u001b[39m\u001b[38;5;241m.\u001b[39mclient\u001b[38;5;241m.\u001b[39mauthenticate(username, password)\n",
      "File \u001b[0;32m~/anaconda3/lib/python3.11/site-packages/linkedin_api/client.py:102\u001b[0m, in \u001b[0;36mClient.authenticate\u001b[0;34m(self, username, password)\u001b[0m\n\u001b[1;32m     99\u001b[0m         \u001b[38;5;28mself\u001b[39m\u001b[38;5;241m.\u001b[39m_fetch_metadata()\n\u001b[1;32m    100\u001b[0m         \u001b[38;5;28;01mreturn\u001b[39;00m\n\u001b[0;32m--> 102\u001b[0m \u001b[38;5;28mself\u001b[39m\u001b[38;5;241m.\u001b[39m_do_authentication_request(username, password)\n\u001b[1;32m    103\u001b[0m \u001b[38;5;28mself\u001b[39m\u001b[38;5;241m.\u001b[39m_fetch_metadata()\n",
      "File \u001b[0;32m~/anaconda3/lib/python3.11/site-packages/linkedin_api/client.py:162\u001b[0m, in \u001b[0;36mClient._do_authentication_request\u001b[0;34m(self, username, password)\u001b[0m\n\u001b[1;32m    159\u001b[0m data \u001b[38;5;241m=\u001b[39m res\u001b[38;5;241m.\u001b[39mjson()\n\u001b[1;32m    161\u001b[0m \u001b[38;5;28;01mif\u001b[39;00m data \u001b[38;5;129;01mand\u001b[39;00m data[\u001b[38;5;124m\"\u001b[39m\u001b[38;5;124mlogin_result\u001b[39m\u001b[38;5;124m\"\u001b[39m] \u001b[38;5;241m!=\u001b[39m \u001b[38;5;124m\"\u001b[39m\u001b[38;5;124mPASS\u001b[39m\u001b[38;5;124m\"\u001b[39m:\n\u001b[0;32m--> 162\u001b[0m     \u001b[38;5;28;01mraise\u001b[39;00m ChallengeException(data[\u001b[38;5;124m\"\u001b[39m\u001b[38;5;124mlogin_result\u001b[39m\u001b[38;5;124m\"\u001b[39m])\n\u001b[1;32m    164\u001b[0m \u001b[38;5;28;01mif\u001b[39;00m res\u001b[38;5;241m.\u001b[39mstatus_code \u001b[38;5;241m==\u001b[39m \u001b[38;5;241m401\u001b[39m:\n\u001b[1;32m    165\u001b[0m     \u001b[38;5;28;01mraise\u001b[39;00m UnauthorizedException()\n",
      "\u001b[0;31mChallengeException\u001b[0m: BAD_USERNAME_OR_PASSWORD"
     ]
    }
   ],
   "source": [
    "# Import functions\n",
    "%run prompt_engineering_linked_metrics.ipynb\n",
    "\n",
    "\"\"\"\n",
    "    Functions:\n",
    "    \n",
    "    1. pdf_to_resume_dict(pdf_path):\n",
    "    \n",
    "    Converts a PDF resume into a structured dictionary with standardized profile information.\n",
    "\n",
    "    Args:\n",
    "        pdf_path (str): The file path to the PDF document containing the resume.\n",
    "\n",
    "    Returns:\n",
    "        dict: A dictionary containing standardized profile information extracted from the resume.\n",
    "        \n",
    "    ---------------\n",
    "   \n",
    "    2. analyze_linkedin_profile(profile_dict):\n",
    "\n",
    "    Analyzes a LinkedIn profile dictionary to return a structured JSON object with standardized profile information.\n",
    "\n",
    "    Args:\n",
    "        profile_dict (dict): A dictionary containing key information from a LinkedIn profile.\n",
    "\n",
    "    Returns:\n",
    "        dict: A JSON object with standardized profile information based on the analysis.\n",
    "    \n",
    "    ---------------\n",
    "    \n",
    "\n",
    "    3. analyze_linkedin_jd(jd_dict):\n",
    "    \n",
    "    Analyzes a LinkedIn job description (JD) to return a structured JSON object with standardized job and company information.\n",
    "\n",
    "    Args:\n",
    "        jd_dict (dict): A dictionary containing key information from a LinkedIn job description.\n",
    "\n",
    "    Returns:\n",
    "        dict: A JSON object with standardized job description and company information based on the analysis.\n",
    "        \n",
    "    ---------------\n",
    "    \n",
    "\n",
    "    4. job_matching_system(profile_json, jd_json):\n",
    "    \n",
    "    Analyzes the compatibility between a job seeker's profile and a job description, returning a JSON object with the compatibility analysis.\n",
    "\n",
    "    Args:\n",
    "        profile_json (dict): A JSON object containing standardized profile information of the job seeker.\n",
    "        jd_json (dict): A JSON object containing standardized job description and company information.\n",
    "\n",
    "    Returns:\n",
    "        dict: A JSON object with the compatibility analysis, including scores and suggestions for improvement.\n",
    "        \n",
    "    \n",
    "\"\"\"\n",
    "\n"
   ]
  },
  {
   "cell_type": "markdown",
   "id": "3b3c49e5",
   "metadata": {},
   "source": [
    "### Test n.1"
   ]
  },
  {
   "cell_type": "code",
   "execution_count": 113,
   "id": "a139c369",
   "metadata": {},
   "outputs": [],
   "source": [
    "# Extracting Linkedin infos -> see the linkedin links for better understanding\n",
    "vigno = linkedin_profile_extractor('https://www.linkedin.com/in/andrea-vignali-077ab9226/')\n",
    "job = linkedin_job_company_extractor('https://www.linkedin.com/jobs/view/3829860721/?alternateChannel=search&refId=4QtpC7%2B%2Bd8hQ1O3XPaFXlA%3D%3D&trackingId=6IepS5pAMSTYZMS8f4qjyQ%3D%3D')\n",
    "\n"
   ]
  },
  {
   "cell_type": "code",
   "execution_count": 117,
   "id": "d74e8b6e",
   "metadata": {},
   "outputs": [
    {
     "data": {
      "text/plain": [
       "{'fullName': 'Andrea Vignali',\n",
       " 'headline': 'Junior Software developer @ lab51',\n",
       " 'summary': \"Ho lavorato per 2 anni nell'officina di Boni motori marini da cui, oltre ad aver imparato la parte meccanica del lavoro, ho imparato come ci si rapporta col cliente per la vendita e l'assistenza.\\n\\nIn seguito ho iniziato un percorso di studi, per interesse personale, presso l'università di Bologna di Acquacoltura e Igiene delle produzioni ittiche.(attualmente ancora in corso)\\nNel frattempo che completo gli studi, lavoro come Bagnino di Salvataggio presso la Dr Lifeguard di Cesenatico.Con la quale, oltre ad effettuare servizio in spiaggia, partecipo a manifestazioni sportive per la tutela degli atleti in mare.(Iron man- Swim&Run)\\nStudio da tempo i linguaggi di programmazione per lo sviluppo Front-end di pagine web.\\nMi piace viaggiare e scoprire nuove culture, praticare attività all'aria aperta e sport di squadra. Sono una persona attiva, sempre alla ricerca di stimoli e avventure a cui piace mettersi alla prova.\",\n",
       " 'industryName': 'Technology, Information and Internet',\n",
       " 'locationName': 'Italy',\n",
       " 'geoCountryName': 'Italy',\n",
       " 'geoLocationName': 'Cesenatico, Emilia-Romagna',\n",
       " 'experience': [{'locationName': 'Cesena, Emilia Romagna, Italia',\n",
       "   'geoLocationName': 'Cesena, Emilia Romagna, Italia',\n",
       "   'companyName': 'lab51',\n",
       "   'timePeriod': {'startDate': {'month': 1, 'year': 2023}},\n",
       "   'industries': ['Information Technology and Services'],\n",
       "   'title': 'Sviluppatore software junior'},\n",
       "  {'locationName': '',\n",
       "   'geoLocationName': '',\n",
       "   'companyName': 'Freelance',\n",
       "   'timePeriod': {'endDate': {'month': 1, 'year': 2023},\n",
       "    'startDate': {'month': 11, 'year': 2020}},\n",
       "   'industries': [],\n",
       "   'title': 'Sviluppatore Web'},\n",
       "  {'locationName': '',\n",
       "   'geoLocationName': '',\n",
       "   'companyName': 'Freelance',\n",
       "   'timePeriod': {'endDate': {'month': 1, 'year': 2023},\n",
       "    'startDate': {'month': 11, 'year': 2020}},\n",
       "   'industries': [],\n",
       "   'title': 'Sviluppatore Web'},\n",
       "  {'locationName': 'Cesenatico, Emilia Romagna, Italia',\n",
       "   'geoLocationName': 'Cesenatico, Emilia Romagna, Italia',\n",
       "   'companyName': 'Doctor lifeguard',\n",
       "   'timePeriod': {'endDate': {'month': 1, 'year': 2023},\n",
       "    'startDate': {'month': 5, 'year': 2015}},\n",
       "   'industries': [],\n",
       "   'title': 'Bagnino'},\n",
       "  {'locationName': 'Cesena, Emilia Romagna, Italia',\n",
       "   'geoLocationName': 'Cesena, Emilia Romagna, Italia',\n",
       "   'companyName': 'SIstem Pneus ',\n",
       "   'timePeriod': {'endDate': {'month': 12, 'year': 2017},\n",
       "    'startDate': {'month': 10, 'year': 2017}},\n",
       "   'industries': [],\n",
       "   'title': 'Meccanico automobilistico'}],\n",
       " 'education': [{'schoolName': 'Liceo scientifico enzo ferrari cesenatico',\n",
       "   'timePeriod': {'endDate': {'year': 2014}},\n",
       "   'degreeName': 'diploma',\n",
       "   'fieldOfStudy': ''}],\n",
       " 'languages': [{'name': 'Inglese', 'proficiency': 'LIMITED_WORKING'},\n",
       "  {'name': 'Spagnolo', 'proficiency': 'ELEMENTARY'}],\n",
       " 'projects': [],\n",
       " 'skills': ['Lingua inglese',\n",
       "  'PHP',\n",
       "  'Google Analytics',\n",
       "  'SQL',\n",
       "  'JavaScript',\n",
       "  'WordPress',\n",
       "  'React.js',\n",
       "  'Linguaggi di programmazione',\n",
       "  'Spirito di squadra',\n",
       "  'Sviluppo front-end',\n",
       "  'Meccanico',\n",
       "  'Capacità di ragionamento',\n",
       "  'Bagnino di salvataggio'],\n",
       " 'profilePictureUrl': 'https://media.licdn.com/dms/image/D4D03AQEvQv_cxtxvYg/profile-displayphoto-shrink_800_800/0/1674214635496?e=1715817600&v=beta&t=iyoyYQ-1ZHFaChg-OPW1YcRof5XYKk28Qo82h_gV870'}"
      ]
     },
     "execution_count": 117,
     "metadata": {},
     "output_type": "execute_result"
    }
   ],
   "source": [
    "# Vigno's raw data\n",
    "vigno"
   ]
  },
  {
   "cell_type": "code",
   "execution_count": 119,
   "id": "74386a1a",
   "metadata": {},
   "outputs": [
    {
     "data": {
      "text/plain": [
       "{'title': 'Sviluppatore Full Stack Web',\n",
       " 'companyName': 'Antherica Srl',\n",
       " 'companyURL': 'https://www.linkedin.com/company/antherica',\n",
       " 'descriptionText': \"Antherica Srl, attiva da 20 nel settore delle soluzioni digitali, è alla ricerca di un talentuoso Sviluppatore Full Stack Web per unirsi al nostro dinamico team di professionisti. Questa è un'opportunità eccezionale per lavorare in un ambiente stimolante e innovativo, dove le tue competenze saranno valorizzate e potrai contribuire attivamente allo sviluppo di applicazioni web all'avanguardia.\\nRequisiti:Almeno 5 anni di esperienza comprovata nello sviluppo di applicazioni full stack (back end e front end) su architetture web.Competenze solide e approfondite in HTML, Javascript, CSS, PHP, e Jquery.Capacità di utilizzare la tua esperienza e buon senso come guida nelle decisioni di sviluppo e problem solving.\\nCosa Offriamo:Un ruolo sfidante e ricco di soddisfazioni nello sviluppo di soluzioni proprietarie per medie e grandi imprese.La possibilità di lavorare su progetti innovativi con tecnologie all'avanguardia.Un ambiente di lavoro stimolante e supportivo con opportunità di crescita professionale.\\nSe sei appassionato di tecnologia e possiedi le competenze richieste, ti invitiamo a inviare il tuo CV accompagnato da una lettera di presentazione. Unisciti a noi e sfrutta l'opportunità di crescere professionalmente in un ambiente lavorativo all'avanguardia e in continua evoluzione.\\nAntherica è impaziente di conoscerti e di darti il benvenuto.Non inviare la tua candidatura se non sarai in grado di lavorare nella nostra sede a Reggio Emilia.\",\n",
       " 'companyInfo': {'name': 'Antherica Srl',\n",
       "  'description': \"Antherica's mission is to provide companies, professionals and Public Institutions with innovative software tools projected and developed which will permit the user to pursue the advantages allowed by the most up to date web-technologies and operate fully independently, limiting to a minimum the time consumed by resources without sidetracking them from their core activities. \\r\\n\\r\\nAntherica aims to be its clients'\\u200b reference for all matters relating to web based technologies, offering applications on a ASP (Application Service Provider) basis, developing customised web-sites and managing their on line presence with hosting, back up, mail and virtual office services. \\r\\n\\r\\nOur technology platform, based on several years of web development experience, is rigorously applied in each project, allowing rationality of the production process, long lasting and relevant cost reduction for our clients.\",\n",
       "  'staffCount': 5,\n",
       "  'industry': 'IT Services and IT Consulting',\n",
       "  'specialties': ['Web application development',\n",
       "   'E-mail marketing',\n",
       "   'SMS marketing',\n",
       "   'Lead generation',\n",
       "   'Web site development',\n",
       "   'Social media marketin',\n",
       "   'App development',\n",
       "   'SMS pull & push',\n",
       "   'SMS marketing'],\n",
       "  'followerCount': 382}}"
      ]
     },
     "execution_count": 119,
     "metadata": {},
     "output_type": "execute_result"
    }
   ],
   "source": [
    "# Job Description raw data\n",
    "job"
   ]
  },
  {
   "cell_type": "code",
   "execution_count": 114,
   "id": "6e64e375",
   "metadata": {},
   "outputs": [],
   "source": [
    "# Analysis Likedin profile/job description -> profile/jd infos are processed and analyzed using OpenAI api\n",
    "vigno_analysis = analyze_linkedin_profile(vigno)\n",
    "job_analysis = analyze_linkedin_jd(job)"
   ]
  },
  {
   "cell_type": "code",
   "execution_count": 120,
   "id": "2e5acf16",
   "metadata": {},
   "outputs": [
    {
     "data": {
      "text/plain": [
       "{'Full Name': 'Andrea Vignali',\n",
       " 'Location': 'Cesenatico, Emilia-Romagna, Italy',\n",
       " 'Brief Overview': 'Andrea Vignali is a Junior Software Developer at lab51 with a background in web development, mechanical work, and lifeguarding. Currently pursuing studies in Aquaculture and Hygiene of Fish Productions at the University of Bologna. Enjoys programming, outdoor activities, and team sports.',\n",
       " 'Degrees': {'Degree Type': 'High School Diploma',\n",
       "  'Field of Study': '',\n",
       "  'Institution': 'Liceo Scientifico Enzo Ferrari Cesenatico',\n",
       "  'Graduation Date': 2014},\n",
       " 'Hard Skills List': ['PHP',\n",
       "  'Google Analytics',\n",
       "  'SQL',\n",
       "  'JavaScript',\n",
       "  'WordPress',\n",
       "  'React.js',\n",
       "  'Front-end Development',\n",
       "  'Mechanical Work'],\n",
       " 'Soft Skills List': {'Introduction': 'Andrea Vignali possesses a diverse set of soft skills that complement their technical expertise:',\n",
       "  'Skills': ['Team Spirit',\n",
       "   'Problem-Solving',\n",
       "   'Customer Relations',\n",
       "   'Adaptability',\n",
       "   'Active Learner']},\n",
       " 'Strengths': {'Prominent Strengths': ['Diverse skill set combining software development, mechanical work, and customer service',\n",
       "   'Active pursuit of continuous learning and personal development',\n",
       "   'Experience in web development and front-end technologies']},\n",
       " 'Weaknesses': {'Areas for Improvement': ['Limited proficiency in English and Spanish',\n",
       "   'Lack of formal higher education beyond high school diploma',\n",
       "   'Sparse project involvement in the profile']},\n",
       " 'Suggestions for Improvement': ['Enhance language proficiency in English and Spanish through courses or practice',\n",
       "  'Consider pursuing further education or certifications in software development or related fields',\n",
       "  'Add detailed project descriptions to showcase practical application of skills'],\n",
       " 'Career Suggestion': ['Junior Software Developer',\n",
       "  'Front-end Developer',\n",
       "  'Web Developer',\n",
       "  'Mechanical Engineer']}"
      ]
     },
     "execution_count": 120,
     "metadata": {},
     "output_type": "execute_result"
    }
   ],
   "source": [
    "# Vigno's profile analyzed by OpenAI\n",
    "vigno_analysis"
   ]
  },
  {
   "cell_type": "code",
   "execution_count": 121,
   "id": "f22360fd",
   "metadata": {},
   "outputs": [
    {
     "data": {
      "text/plain": [
       "{'Job Title': 'Full Stack Web Developer',\n",
       " 'Location': 'Reggio Emilia, Italy',\n",
       " 'Job Description Overview': 'Seeking a talented Full Stack Web Developer with at least 5 years of experience in full stack application development using HTML, Javascript, CSS, PHP, and Jquery. The role involves working on proprietary solutions for medium and large enterprises, engaging in innovative projects with cutting-edge technologies, and contributing to the development of advanced web applications.',\n",
       " 'Company Information': {'Company Name': 'Antherica Srl',\n",
       "  'LinkedIn URL': 'https://www.linkedin.com/company/antherica',\n",
       "  'Company Overview': \"Antherica Srl focuses on providing innovative software tools to companies, professionals, and Public Institutions. They specialize in web application development, e-mail and SMS marketing, lead generation, web site development, and more. Antherica aims to be a leading reference for web-based technologies, offering customized solutions and services to enhance clients' online presence.\",\n",
       "  'Company Specialties': ['Web application development',\n",
       "   'E-mail marketing',\n",
       "   'SMS marketing',\n",
       "   'Lead generation',\n",
       "   'Web site development',\n",
       "   'Social media marketing',\n",
       "   'App development',\n",
       "   'SMS pull & push']},\n",
       " 'Experience Level and Years Required': 'Mid-senior level with at least 5 years of experience in full stack application development',\n",
       " 'Academic Degree Requested': 'Not explicitly mentioned, but a degree in Computer Science or related field is inferred based on technical requirements',\n",
       " 'Skills Requested': {'Hard Skills': ['HTML',\n",
       "   'Javascript',\n",
       "   'CSS',\n",
       "   'PHP',\n",
       "   'Jquery'],\n",
       "  'Soft Skills': ['Problem-solving',\n",
       "   'Decision-making',\n",
       "   'Teamwork',\n",
       "   'Communication']},\n",
       " 'Language Requirements': \"Proficiency in Italian is required for working at the company's location in Italy. English proficiency may also be beneficial.\",\n",
       " 'Key Responsibilities': ['Develop and maintain full stack web applications for medium and large enterprises',\n",
       "  'Utilize expertise in HTML, Javascript, CSS, PHP, and Jquery for effective application development',\n",
       "  'Contribute to decision-making processes and problem-solving activities',\n",
       "  'Work on innovative projects using cutting-edge technologies',\n",
       "  'Collaborate with a dynamic team of professionals to deliver high-quality solutions',\n",
       "  'Enhance and optimize web applications for improved performance',\n",
       "  'Participate in the development of proprietary solutions tailored to client needs',\n",
       "  'Stay updated on industry trends and best practices in web development',\n",
       "  'Provide technical guidance and support to team members',\n",
       "  'Continuously improve skills and knowledge in full stack development']}"
      ]
     },
     "execution_count": 121,
     "metadata": {},
     "output_type": "execute_result"
    }
   ],
   "source": [
    "# Job Description analyzed by OpenAI\n",
    "job_analysis"
   ]
  },
  {
   "cell_type": "code",
   "execution_count": 115,
   "id": "af2fa690",
   "metadata": {},
   "outputs": [],
   "source": [
    "# Compatibility Match System\n",
    "match = job_matching_system(vigno_analysis,job_analysis)\n"
   ]
  },
  {
   "cell_type": "code",
   "execution_count": 122,
   "id": "98c9aca4",
   "metadata": {},
   "outputs": [
    {
     "data": {
      "text/plain": [
       "{'Overall Compatibility Score': 62,\n",
       " 'Details': {'Skill Depth and Specialization': {'Match Status': 'Partial Match',\n",
       "   'Percentage Match': 70,\n",
       "   'Matched Skills': ['PHP', 'JavaScript', 'Front-end Development'],\n",
       "   'Suggestions': 'Andrea should focus on enhancing skills in HTML, CSS, and Jquery to meet the full stack requirements of the role.'},\n",
       "  'Experience Progression and Relevance': {'Match Status': 'Partial Match',\n",
       "   'Percentage Match': 40,\n",
       "   'Suggestions': 'Gaining more comprehensive experience in full stack development projects and reaching the 5-year experience mark will improve compatibility.'},\n",
       "  'Educational Achievements and Specializations': {'Match Status': 'No Match',\n",
       "   'Percentage Match': 0,\n",
       "   'Suggestions': \"Pursuing further education in Computer Science or a related field would significantly enhance Andrea's profile.\"},\n",
       "  'Cultural Alignment and Soft Skills': {'Match Status': 'Match',\n",
       "   'Percentage Match': 90,\n",
       "   'Suggestions': \"Continuing to develop leadership and communication skills will further solidify Andrea's cultural alignment with the team.\"},\n",
       "  'Language Fluency and International Exposure': {'Match Status': 'Partial Match',\n",
       "   'Percentage Match': 60,\n",
       "   'Suggestions': 'Improving proficiency in English and gaining more international exposure would be beneficial.'},\n",
       "  'Growth Potential and Learning Agility': {'Match Status': 'Match',\n",
       "   'Percentage Match': 80,\n",
       "   'Suggestions': 'Maintaining an active pursuit of learning and personal development is key to realizing growth potential in the role.'}},\n",
       " 'Summary': \"Andrea Vignali demonstrates a partial match for the Full Stack Web Developer position at Antherica Srl, with an overall compatibility score of 62. While there is a good alignment in terms of cultural fit and soft skills, and a partial match in skill depth and international exposure, the lack of relevant educational background and insufficient experience in full stack development are significant gaps. Enhancing technical skills, especially in HTML, CSS, and Jquery, along with pursuing further education in a related field, could greatly improve Andrea's compatibility with the job requirements.\"}"
      ]
     },
     "execution_count": 122,
     "metadata": {},
     "output_type": "execute_result"
    }
   ],
   "source": [
    "# Compatibility Match analysis made by OpenAI\n",
    "match"
   ]
  },
  {
   "cell_type": "markdown",
   "id": "208d3354",
   "metadata": {},
   "source": [
    "## To improve\n",
    "\n",
    "- improve prompts in order to get standardize output and better results\n",
    "- ????"
   ]
  }
 ],
 "metadata": {
  "kernelspec": {
   "display_name": "Python 3 (ipykernel)",
   "language": "python",
   "name": "python3"
  },
  "language_info": {
   "codemirror_mode": {
    "name": "ipython",
    "version": 3
   },
   "file_extension": ".py",
   "mimetype": "text/x-python",
   "name": "python",
   "nbconvert_exporter": "python",
   "pygments_lexer": "ipython3",
   "version": "3.11.4"
  }
 },
 "nbformat": 4,
 "nbformat_minor": 5
}
